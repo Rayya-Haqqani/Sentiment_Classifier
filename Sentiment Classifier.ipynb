{
 "cells": [
  {
   "cell_type": "markdown",
   "id": "b9ef6e93-cd6d-4af6-8eb8-3f80a3bae503",
   "metadata": {},
   "source": [
    "## CLASS DATA"
   ]
  },
  {
   "cell_type": "code",
   "execution_count": 26,
   "id": "93074ddc-e9b1-4605-9a44-5f163305c9a5",
   "metadata": {
    "tags": []
   },
   "outputs": [],
   "source": [
    "import random \n",
    "\n",
    "class Sentiment:\n",
    "    NEGATIVE = \"NEGATIVE\"\n",
    "    NEUTRAL = \"NEUTRAL\"\n",
    "    POSITIVE = \"POSITIVE\"\n",
    "\n",
    "class Review:\n",
    "    def __init__(self, text, score):\n",
    "        self.text = text\n",
    "        self.score = score\n",
    "        self.sentiment = self.get_sentiment()\n",
    "        \n",
    "    def get_sentiment(self):\n",
    "        if self.score <= 2:\n",
    "            return Sentiment.NEGATIVE\n",
    "        elif self.score ==3:\n",
    "            return Sentiment.NEUTRAL\n",
    "        else: \n",
    "            return Sentiment.POSITIVE\n",
    "\n",
    "class ReviewContainer:\n",
    "    def __init__(self, reviews):\n",
    "        self.reviews = reviews \n",
    "    \n",
    "    def get_text(self):\n",
    "        return [x.text for x in self.reviews]\n",
    "    \n",
    "    def get_sentiment(self):\n",
    "        return[x.sentiment for x in self.reviews]\n",
    "        \n",
    "    def evenly_distribute(self):\n",
    "        negative = list(filter(lambda x: x.sentiment == Sentiment.NEGATIVE, self.reviews))\n",
    "        positive = list(filter(lambda x: x.sentiment == Sentiment.POSITIVE, self.reviews))\n",
    "        positive_shrunk = positive[:len(negative)]\n",
    "        self.reviews = negative + positive_shrunk \n",
    "        random.shuffle(self.reviews)"
   ]
  },
  {
   "cell_type": "markdown",
   "id": "1a9edb64-9bfb-41bc-9a2c-82d5e9400443",
   "metadata": {},
   "source": [
    "## LOAD DATA"
   ]
  },
  {
   "cell_type": "code",
   "execution_count": 27,
   "id": "9d9b54e7-705b-47dd-90d0-7d0e8c995de0",
   "metadata": {
    "tags": []
   },
   "outputs": [
    {
     "data": {
      "text/plain": [
       "'I hoped for Mia to have some peace in this book, but her story is so real and raw.  Broken World was so touching and emotional because you go from Mia\\'s trauma to her trying to cope.  I love the way the story displays how there is no \"just bouncing back\" from being sexually assaulted.  Mia showed us how those demons come for you every day and how sometimes they best you. I was so in the moment with Broken World and hurt with Mia because she was surrounded by people but so alone and I understood her feelings.  I found myself wishing I could give her some of my courage and strength or even just to be there for her.  Thank you Lizzy for putting a great character\\'s voice on a strong subject and making it so that other peoples story may be heard through Mia\\'s.'"
      ]
     },
     "execution_count": 27,
     "metadata": {},
     "output_type": "execute_result"
    }
   ],
   "source": [
    "import json\n",
    "\n",
    "file_name = '/Users/rayya/PycharmProjects/Scikit-Learn/Books_small_10000.json'\n",
    "\n",
    "reviews = []\n",
    "with open(file_name) as f:\n",
    "    for line in f:\n",
    "        # need the raw data to convert into json\n",
    "        review = json.loads(line)\n",
    "        reviews.append(Review(review['reviewText'], review['overall']))\n",
    "\n",
    "\n",
    "# reviews[5].sentiment\n",
    "# reviews[5].score\n",
    "reviews[5].text\n"
   ]
  },
  {
   "cell_type": "markdown",
   "id": "8ec73959-386f-478e-ac21-bb0e9fb25bc3",
   "metadata": {},
   "source": [
    "## PREP DATA (to have some of the dataset for training and some for the testing)"
   ]
  },
  {
   "cell_type": "code",
   "execution_count": 28,
   "id": "659a0f55-7d5a-4631-a615-8609080d162a",
   "metadata": {
    "tags": []
   },
   "outputs": [],
   "source": [
    "from sklearn.model_selection import train_test_split\n",
    "\n",
    "training, test = train_test_split(reviews, test_size= 0.33, random_state=42)\n",
    "\n",
    "train_container = ReviewContainer(training)\n",
    "test_container = ReviewContainer(test)"
   ]
  },
  {
   "cell_type": "code",
   "execution_count": 29,
   "id": "707f1d2e-51a5-4089-acd2-0b5fd64dda92",
   "metadata": {
    "tags": []
   },
   "outputs": [
    {
     "name": "stdout",
     "output_type": "stream",
     "text": [
      "436\n",
      "436\n"
     ]
    }
   ],
   "source": [
    "train_container.evenly_distribute()\n",
    "train_x = train_container.get_text()\n",
    "train_y = train_container.get_sentiment()\n",
    "\n",
    "test_container.evenly_distribute()\n",
    "test_x = test_container.get_text()\n",
    "test_y = test_container.get_sentiment()\n",
    "\n",
    "print(train_y.count(Sentiment.POSITIVE))\n",
    "print(train_y.count(Sentiment.NEGATIVE))"
   ]
  },
  {
   "cell_type": "markdown",
   "id": "fe37f3e2-c859-4c41-b0a9-f7002e9d57ed",
   "metadata": {},
   "source": [
    "##### Bag of words vectorization (CountVectorization)"
   ]
  },
  {
   "cell_type": "code",
   "execution_count": 30,
   "id": "85ea78e8-9951-428b-9b6e-269339b83b8b",
   "metadata": {
    "tags": []
   },
   "outputs": [
    {
     "name": "stdout",
     "output_type": "stream",
     "text": [
      "&#34;Cecilia&#34; is similar to a Jane Austen novel but not EXACTLY like a Jane Austen novel.  This is important to keep in mind when reading this book.  That being said, I was very pleased with this novel.  I often found myself wishing that there were more books like Jane Austen, and that is what I found in &#34;Cecilia.&#34;  The following are reasons why I liked it.1.  It's long.  Yes, I always wish for more, and this book is huge.2.  It has a lot of twists and turns.3.  Murphy's Law rules in this Frances Burney book; anything that can go wrong will go wrong in a hilarious sort of manner.4.  It's clean.  I don't like to read bad words and sex scenes.Frances Burney does a great job.  I think she puts in even more twists and turns than Jane Austen does.  I will be reading more of her work.  I just wish A&E; would make a mini-series of &#34;Cecilia,&#34; like they did with &#34;Pride and Prejudice.&#34;\n",
      "  (0, 6078)\t0.09031743381482515\n",
      "  (0, 6116)\t0.09580503970467166\n",
      "  (0, 2229)\t0.04108597385498667\n",
      "  (0, 7956)\t0.03792420676908183\n",
      "  (0, 7002)\t0.039839276193839125\n",
      "  (0, 5101)\t0.0864239154734923\n",
      "  (0, 4861)\t0.04730533100026119\n",
      "  (0, 8823)\t0.036164054543166034\n",
      "  (0, 4409)\t0.03231186173441851\n",
      "  (0, 8797)\t0.05224044787666373\n",
      "  (0, 3737)\t0.03624683217984387\n",
      "  (0, 779)\t0.03089832413725888\n",
      "  (0, 7919)\t0.044900575929541275\n",
      "  (0, 2781)\t0.04245927181849895\n",
      "  (0, 6294)\t0.09031743381482515\n",
      "  (0, 7063)\t0.038598643168701506\n",
      "  (0, 7968)\t0.04571124345174752\n",
      "  (0, 4359)\t0.06335168192096528\n",
      "  (0, 3495)\t0.038898303411573056\n",
      "  (0, 2363)\t0.10190102047628134\n",
      "  (0, 6898)\t0.06057997357277341\n",
      "  (0, 7029)\t0.05961284070785093\n",
      "  (0, 8794)\t0.06275006725864347\n",
      "  (0, 708)\t0.04827942764275242\n",
      "  (0, 6392)\t0.026336487689532312\n",
      "  :\t:\n",
      "  (0, 8497)\t0.03347819941430501\n",
      "  (0, 8608)\t0.023372449014151375\n",
      "  (0, 6825)\t0.06057997357277341\n",
      "  (0, 825)\t0.0463966608673094\n",
      "  (0, 7925)\t0.09625312861327445\n",
      "  (0, 991)\t0.059657638778815865\n",
      "  (0, 6399)\t0.07700042581287647\n",
      "  (0, 8685)\t0.03962444467670051\n",
      "  (0, 5092)\t0.05871023288246131\n",
      "  (0, 4034)\t0.11102761441140387\n",
      "  (0, 4439)\t0.049329108651281955\n",
      "  (0, 4025)\t0.07402274379066769\n",
      "  (0, 7976)\t0.09071938447782922\n",
      "  (0, 4684)\t0.13101429298132294\n",
      "  (0, 2808)\t0.07544870369379927\n",
      "  (0, 5408)\t0.025006685216866466\n",
      "  (0, 1168)\t0.024720238515948467\n",
      "  (0, 5419)\t0.16010682908239232\n",
      "  (0, 657)\t0.38322015881868665\n",
      "  (0, 4326)\t0.3612697352593006\n",
      "  (0, 8052)\t0.052766318548433964\n",
      "  (0, 7153)\t0.07885001865101579\n",
      "  (0, 4264)\t0.08812053001820154\n",
      "  (0, 1323)\t0.28741511911401496\n",
      "  (0, 81)\t0.32868779083989336\n"
     ]
    }
   ],
   "source": [
    "from sklearn.feature_extraction.text import CountVectorizer, TfidfVectorizer\n",
    "vectorizer = TfidfVectorizer()\n",
    "train_x_vectors = vectorizer.fit_transform(train_x)\n",
    "\n",
    "test_x_vectors = vectorizer.transform(test_x)\n",
    "\n",
    "print(train_x[0])\n",
    "print(train_x_vectors[0])"
   ]
  },
  {
   "cell_type": "markdown",
   "id": "ce3c940f-1a77-49b6-97a0-5f52ede07148",
   "metadata": {},
   "source": [
    "## CLASSIFICATION"
   ]
  },
  {
   "cell_type": "markdown",
   "id": "aa0cf73d-81c1-48a9-ab50-fd3e59a47dec",
   "metadata": {
    "tags": []
   },
   "source": [
    "#### Linear SVM"
   ]
  },
  {
   "cell_type": "code",
   "execution_count": 31,
   "id": "aec4d246-f1d3-4386-be28-51e94855c0c5",
   "metadata": {
    "tags": []
   },
   "outputs": [
    {
     "data": {
      "text/plain": [
       "array(['POSITIVE'], dtype='<U8')"
      ]
     },
     "execution_count": 31,
     "metadata": {},
     "output_type": "execute_result"
    }
   ],
   "source": [
    "from sklearn import svm \n",
    "\n",
    "clf_svm = svm.SVC(kernel='linear')\n",
    "\n",
    "clf_svm.fit(train_x_vectors, train_y)\n",
    "\n",
    "test_x[0]\n",
    "\n",
    "clf_svm.predict(test_x_vectors[0])"
   ]
  },
  {
   "cell_type": "markdown",
   "id": "fc2143ad-c0db-4b1a-bd46-65cdd2005f6e",
   "metadata": {},
   "source": [
    "#### DECISION TREE"
   ]
  },
  {
   "cell_type": "code",
   "execution_count": 32,
   "id": "2590e865-9b82-4b85-9f2a-f47a9ac621c7",
   "metadata": {
    "tags": []
   },
   "outputs": [
    {
     "data": {
      "text/plain": [
       "array(['POSITIVE'], dtype='<U8')"
      ]
     },
     "execution_count": 32,
     "metadata": {},
     "output_type": "execute_result"
    }
   ],
   "source": [
    "from sklearn.tree import DecisionTreeClassifier\n",
    "\n",
    "clf_dec = DecisionTreeClassifier()\n",
    "\n",
    "clf_dec.fit(train_x_vectors, train_y)\n",
    "\n",
    "clf_dec.predict(test_x_vectors[0])"
   ]
  },
  {
   "cell_type": "markdown",
   "id": "8a2b8148-653f-4caf-be9b-e0e7bc770c29",
   "metadata": {},
   "source": [
    "#### NAIVE BAYES"
   ]
  },
  {
   "cell_type": "code",
   "execution_count": 33,
   "id": "1b3e080c-808f-423d-bd08-491e47bc1206",
   "metadata": {
    "tags": []
   },
   "outputs": [
    {
     "name": "stdout",
     "output_type": "stream",
     "text": [
      "Predicted class for the first test sample: POSITIVE\n"
     ]
    }
   ],
   "source": [
    "# Import necessary libraries\n",
    "from sklearn.naive_bayes import GaussianNB\n",
    "\n",
    "# Assuming train_x_vectors and test_x_vectors are sparse matrices\n",
    "# Convert sparse matrices to dense arrays\n",
    "train_x_vectors_dense = train_x_vectors.toarray()\n",
    "test_x_vectors_dense = test_x_vectors.toarray()\n",
    "\n",
    "# Create a Gaussian Naive Bayes classifier\n",
    "clf_gnb = GaussianNB()\n",
    "\n",
    "# Train the model\n",
    "clf_gnb.fit(train_x_vectors_dense, train_y)\n",
    "\n",
    "# Make a prediction on the first test sample\n",
    "prediction = clf_gnb.predict(test_x_vectors_dense[0].reshape(1, -1))\n",
    "\n",
    "print(f'Predicted class for the first test sample: {prediction[0]}')\n"
   ]
  },
  {
   "cell_type": "markdown",
   "id": "cfa5b37b-aeea-4f3f-9d9c-fe38ba5c7c8b",
   "metadata": {},
   "source": [
    "#### LOGISTIC REGRESSION"
   ]
  },
  {
   "cell_type": "code",
   "execution_count": 34,
   "id": "aaa1f16f-213b-4bfc-83d1-c7fd6cf255f9",
   "metadata": {
    "tags": []
   },
   "outputs": [
    {
     "data": {
      "text/plain": [
       "array(['POSITIVE'], dtype='<U8')"
      ]
     },
     "execution_count": 34,
     "metadata": {},
     "output_type": "execute_result"
    }
   ],
   "source": [
    "from sklearn.linear_model import LogisticRegression\n",
    "\n",
    "clf_log = LogisticRegression()\n",
    "\n",
    "clf_log.fit(train_x_vectors, train_y)\n",
    "\n",
    "clf_log.predict(test_x_vectors[0])"
   ]
  },
  {
   "cell_type": "markdown",
   "id": "34b78545-c987-4cd7-8a0b-f80e134392b8",
   "metadata": {},
   "source": [
    "## EVALUATION"
   ]
  },
  {
   "cell_type": "code",
   "execution_count": 35,
   "id": "b6557a78-71c6-4562-b7e1-ee79c435ad0b",
   "metadata": {
    "tags": []
   },
   "outputs": [
    {
     "name": "stdout",
     "output_type": "stream",
     "text": [
      "0.8076923076923077\n",
      "0.6346153846153846\n",
      "0.6610576923076923\n",
      "0.8052884615384616\n"
     ]
    }
   ],
   "source": [
    "# Mean Accuracy\n",
    "print(clf_svm.score(test_x_vectors, test_y))\n",
    "print(clf_dec.score(test_x_vectors, test_y))\n",
    "print(clf_gnb.score(test_x_vectors_dense, test_y))\n",
    "print(clf_log.score(test_x_vectors, test_y))\n"
   ]
  },
  {
   "cell_type": "code",
   "execution_count": 36,
   "id": "30634a46-c724-4fbb-bf51-bc4816b1a80f",
   "metadata": {
    "tags": []
   },
   "outputs": [
    {
     "data": {
      "text/plain": [
       "array([0.80582524, 0.80952381])"
      ]
     },
     "execution_count": 36,
     "metadata": {},
     "output_type": "execute_result"
    }
   ],
   "source": [
    "# F1 Scores\n",
    "from sklearn.metrics import f1_score\n",
    "\n",
    "f1_score(test_y, clf_svm.predict(test_x_vectors), average=None, labels = [Sentiment.POSITIVE, Sentiment.NEGATIVE]\n",
    ")\n",
    "# f1_score(test_y, clf_dec.predict(test_x_vectors), average=None, labels = [Sentiment.POSITIVE, Sentiment.NEUTRAL, Sentiment.NEGATIVE]\n",
    "# )\n",
    "# f1_score(test_y, clf_gnb.predict(test_x_vectors_dense), average=None, labels = [Sentiment.POSITIVE, Sentiment.NEUTRAL, Sentiment.NEGATIVE]\n",
    "# )\n",
    "# f1_score(test_y, clf_log.predict(test_x_vectors), average=None, labels = [Sentiment.POSITIVE, Sentiment.NEUTRAL, Sentiment.NEGATIVE]\n",
    "# )"
   ]
  },
  {
   "cell_type": "markdown",
   "id": "ddbd590e-60be-4e4a-a896-b4544d6ea305",
   "metadata": {},
   "source": [
    "#### Qualitative testing "
   ]
  },
  {
   "cell_type": "code",
   "execution_count": 37,
   "id": "a7238388-4426-43f8-95cc-ab95d24cbcfe",
   "metadata": {
    "tags": []
   },
   "outputs": [
    {
     "data": {
      "text/plain": [
       "array(['POSITIVE', 'NEGATIVE', 'NEGATIVE'], dtype='<U8')"
      ]
     },
     "execution_count": 37,
     "metadata": {},
     "output_type": "execute_result"
    }
   ],
   "source": [
    "test_set = ['it was amazing', \"bad book do not buy\", 'horrible waste of time']\n",
    "new_test = vectorizer.transform(test_set)\n",
    "\n",
    "clf_svm.predict(new_test)"
   ]
  },
  {
   "cell_type": "markdown",
   "id": "dd16025e-2a58-48c3-a602-75033fd202a2",
   "metadata": {},
   "source": [
    " ### TUNING OUR MODEL (WITH GRID SEARCH)"
   ]
  },
  {
   "cell_type": "code",
   "execution_count": 39,
   "id": "39895b9d-2b3c-43a5-bff9-b18401d54af0",
   "metadata": {},
   "outputs": [
    {
     "data": {
      "text/html": [
       "<style>#sk-container-id-1 {color: black;}#sk-container-id-1 pre{padding: 0;}#sk-container-id-1 div.sk-toggleable {background-color: white;}#sk-container-id-1 label.sk-toggleable__label {cursor: pointer;display: block;width: 100%;margin-bottom: 0;padding: 0.3em;box-sizing: border-box;text-align: center;}#sk-container-id-1 label.sk-toggleable__label-arrow:before {content: \"▸\";float: left;margin-right: 0.25em;color: #696969;}#sk-container-id-1 label.sk-toggleable__label-arrow:hover:before {color: black;}#sk-container-id-1 div.sk-estimator:hover label.sk-toggleable__label-arrow:before {color: black;}#sk-container-id-1 div.sk-toggleable__content {max-height: 0;max-width: 0;overflow: hidden;text-align: left;background-color: #f0f8ff;}#sk-container-id-1 div.sk-toggleable__content pre {margin: 0.2em;color: black;border-radius: 0.25em;background-color: #f0f8ff;}#sk-container-id-1 input.sk-toggleable__control:checked~div.sk-toggleable__content {max-height: 200px;max-width: 100%;overflow: auto;}#sk-container-id-1 input.sk-toggleable__control:checked~label.sk-toggleable__label-arrow:before {content: \"▾\";}#sk-container-id-1 div.sk-estimator input.sk-toggleable__control:checked~label.sk-toggleable__label {background-color: #d4ebff;}#sk-container-id-1 div.sk-label input.sk-toggleable__control:checked~label.sk-toggleable__label {background-color: #d4ebff;}#sk-container-id-1 input.sk-hidden--visually {border: 0;clip: rect(1px 1px 1px 1px);clip: rect(1px, 1px, 1px, 1px);height: 1px;margin: -1px;overflow: hidden;padding: 0;position: absolute;width: 1px;}#sk-container-id-1 div.sk-estimator {font-family: monospace;background-color: #f0f8ff;border: 1px dotted black;border-radius: 0.25em;box-sizing: border-box;margin-bottom: 0.5em;}#sk-container-id-1 div.sk-estimator:hover {background-color: #d4ebff;}#sk-container-id-1 div.sk-parallel-item::after {content: \"\";width: 100%;border-bottom: 1px solid gray;flex-grow: 1;}#sk-container-id-1 div.sk-label:hover label.sk-toggleable__label {background-color: #d4ebff;}#sk-container-id-1 div.sk-serial::before {content: \"\";position: absolute;border-left: 1px solid gray;box-sizing: border-box;top: 0;bottom: 0;left: 50%;z-index: 0;}#sk-container-id-1 div.sk-serial {display: flex;flex-direction: column;align-items: center;background-color: white;padding-right: 0.2em;padding-left: 0.2em;position: relative;}#sk-container-id-1 div.sk-item {position: relative;z-index: 1;}#sk-container-id-1 div.sk-parallel {display: flex;align-items: stretch;justify-content: center;background-color: white;position: relative;}#sk-container-id-1 div.sk-item::before, #sk-container-id-1 div.sk-parallel-item::before {content: \"\";position: absolute;border-left: 1px solid gray;box-sizing: border-box;top: 0;bottom: 0;left: 50%;z-index: -1;}#sk-container-id-1 div.sk-parallel-item {display: flex;flex-direction: column;z-index: 1;position: relative;background-color: white;}#sk-container-id-1 div.sk-parallel-item:first-child::after {align-self: flex-end;width: 50%;}#sk-container-id-1 div.sk-parallel-item:last-child::after {align-self: flex-start;width: 50%;}#sk-container-id-1 div.sk-parallel-item:only-child::after {width: 0;}#sk-container-id-1 div.sk-dashed-wrapped {border: 1px dashed gray;margin: 0 0.4em 0.5em 0.4em;box-sizing: border-box;padding-bottom: 0.4em;background-color: white;}#sk-container-id-1 div.sk-label label {font-family: monospace;font-weight: bold;display: inline-block;line-height: 1.2em;}#sk-container-id-1 div.sk-label-container {text-align: center;}#sk-container-id-1 div.sk-container {/* jupyter's `normalize.less` sets `[hidden] { display: none; }` but bootstrap.min.css set `[hidden] { display: none !important; }` so we also need the `!important` here to be able to override the default hidden behavior on the sphinx rendered scikit-learn.org. See: https://github.com/scikit-learn/scikit-learn/issues/21755 */display: inline-block !important;position: relative;}#sk-container-id-1 div.sk-text-repr-fallback {display: none;}</style><div id=\"sk-container-id-1\" class=\"sk-top-container\"><div class=\"sk-text-repr-fallback\"><pre>GridSearchCV(cv=5, estimator=SVC(),\n",
       "             param_grid={&#x27;C&#x27;: (1, 4, 6, 8, 16, 32),\n",
       "                         &#x27;kernel&#x27;: (&#x27;linear&#x27;, &#x27;rbf&#x27;)})</pre><b>In a Jupyter environment, please rerun this cell to show the HTML representation or trust the notebook. <br />On GitHub, the HTML representation is unable to render, please try loading this page with nbviewer.org.</b></div><div class=\"sk-container\" hidden><div class=\"sk-item sk-dashed-wrapped\"><div class=\"sk-label-container\"><div class=\"sk-label sk-toggleable\"><input class=\"sk-toggleable__control sk-hidden--visually\" id=\"sk-estimator-id-1\" type=\"checkbox\" ><label for=\"sk-estimator-id-1\" class=\"sk-toggleable__label sk-toggleable__label-arrow\">GridSearchCV</label><div class=\"sk-toggleable__content\"><pre>GridSearchCV(cv=5, estimator=SVC(),\n",
       "             param_grid={&#x27;C&#x27;: (1, 4, 6, 8, 16, 32),\n",
       "                         &#x27;kernel&#x27;: (&#x27;linear&#x27;, &#x27;rbf&#x27;)})</pre></div></div></div><div class=\"sk-parallel\"><div class=\"sk-parallel-item\"><div class=\"sk-item\"><div class=\"sk-label-container\"><div class=\"sk-label sk-toggleable\"><input class=\"sk-toggleable__control sk-hidden--visually\" id=\"sk-estimator-id-2\" type=\"checkbox\" ><label for=\"sk-estimator-id-2\" class=\"sk-toggleable__label sk-toggleable__label-arrow\">estimator: SVC</label><div class=\"sk-toggleable__content\"><pre>SVC()</pre></div></div></div><div class=\"sk-serial\"><div class=\"sk-item\"><div class=\"sk-estimator sk-toggleable\"><input class=\"sk-toggleable__control sk-hidden--visually\" id=\"sk-estimator-id-3\" type=\"checkbox\" ><label for=\"sk-estimator-id-3\" class=\"sk-toggleable__label sk-toggleable__label-arrow\">SVC</label><div class=\"sk-toggleable__content\"><pre>SVC()</pre></div></div></div></div></div></div></div></div></div></div>"
      ],
      "text/plain": [
       "GridSearchCV(cv=5, estimator=SVC(),\n",
       "             param_grid={'C': (1, 4, 6, 8, 16, 32),\n",
       "                         'kernel': ('linear', 'rbf')})"
      ]
     },
     "execution_count": 39,
     "metadata": {},
     "output_type": "execute_result"
    }
   ],
   "source": [
    "from sklearn.model_selection import GridSearchCV\n",
    "\n",
    "parameters = {'kernel' : ('linear', 'rbf'),'C' : (1,4,6,8,16,32)}\n",
    "\n",
    "svc = svm.SVC()\n",
    "clf = GridSearchCV(svc, parameters, cv = 5)\n",
    "clf.fit(train_x_vectors, train_y)\n"
   ]
  },
  {
   "cell_type": "code",
   "execution_count": 40,
   "id": "2ed715b9-6314-4094-8440-b6853c14e160",
   "metadata": {
    "tags": []
   },
   "outputs": [
    {
     "name": "stdout",
     "output_type": "stream",
     "text": [
      "0.8100961538461539\n"
     ]
    }
   ],
   "source": [
    "print(clf.score(test_x_vectors, test_y))\n"
   ]
  },
  {
   "cell_type": "markdown",
   "id": "a809bd8d-24b9-4a3b-8d2e-8ca9ea13f8bb",
   "metadata": {},
   "source": [
    "## Saving Model"
   ]
  },
  {
   "cell_type": "markdown",
   "id": "297d0711-700a-4d53-ae44-0bfc3d5e5291",
   "metadata": {},
   "source": [
    "#### Save Model"
   ]
  },
  {
   "cell_type": "code",
   "execution_count": 55,
   "id": "62f548ca-4d31-446c-9f95-c806961ce2e3",
   "metadata": {
    "tags": []
   },
   "outputs": [],
   "source": [
    "import pickle\n",
    "\n",
    "with open('./Sentiment Classifier.pkl', 'wb') as f:\n",
    "    pickle.dump(clf, f)"
   ]
  },
  {
   "cell_type": "markdown",
   "id": "cc6d9e78-c8e9-435a-99a7-bab7819739c2",
   "metadata": {},
   "source": [
    "#### Load Model "
   ]
  },
  {
   "cell_type": "code",
   "execution_count": 58,
   "id": "c8eb0fe0-0c28-4b4d-890c-26224335b19d",
   "metadata": {
    "tags": []
   },
   "outputs": [],
   "source": [
    "with open('./Sentiment Classifier.pkl', 'rb') as f:\n",
    "    loaded_clf = pickle.load(f)"
   ]
  },
  {
   "cell_type": "code",
   "execution_count": 60,
   "id": "6d1ae0a9-54eb-4ed6-9058-31b93461c596",
   "metadata": {
    "tags": []
   },
   "outputs": [
    {
     "name": "stdout",
     "output_type": "stream",
     "text": [
      "Beautiful book.  Can't put it down.\n"
     ]
    },
    {
     "data": {
      "text/plain": [
       "array(['POSITIVE'], dtype='<U8')"
      ]
     },
     "execution_count": 60,
     "metadata": {},
     "output_type": "execute_result"
    }
   ],
   "source": [
    "print(test_x[1])\n",
    "\n",
    "loaded_clf.predict(test_x_vectors[1])"
   ]
  }
 ],
 "metadata": {
  "kernelspec": {
   "display_name": "Python 3 (ipykernel)",
   "language": "python",
   "name": "python3"
  },
  "language_info": {
   "codemirror_mode": {
    "name": "ipython",
    "version": 3
   },
   "file_extension": ".py",
   "mimetype": "text/x-python",
   "name": "python",
   "nbconvert_exporter": "python",
   "pygments_lexer": "ipython3",
   "version": "3.11.4"
  }
 },
 "nbformat": 4,
 "nbformat_minor": 5
}
